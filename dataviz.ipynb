{
 "cells": [
  {
   "cell_type": "markdown",
   "id": "a66a68eb",
   "metadata": {},
   "source": [
    "# Steam Game Dataset Analysis"
   ]
  },
  {
   "cell_type": "markdown",
   "id": "d3111699",
   "metadata": {},
   "source": [
    "## Introduction\n",
    "\n",
    "This is a practice dataset analysis pilot project for my High School Computer Science course. Throughout this notebook, I'll be using Steam Store data that was scraped and uploaded onto Kaggle. In the future, I'll likely do another trial by scraping and cleaning out my own data."
   ]
  },
  {
   "cell_type": "code",
   "execution_count": 24,
   "id": "3441fc67",
   "metadata": {},
   "outputs": [],
   "source": [
    "# import necessary libraries\n",
    "import io\n",
    "\n",
    "import matplotlib.pyplot as plt\n",
    "import pandas as pd\n",
    "import seaborn as sns"
   ]
  },
  {
   "cell_type": "code",
   "execution_count": 6,
   "id": "677495de",
   "metadata": {},
   "outputs": [],
   "source": [
    "sd = pd.read_json('https://media.githubusercontent.com/media/1metropolis/steam-store-analysis/refs/heads/main/rawdata/steam-data.json')"
   ]
  },
  {
   "cell_type": "code",
   "execution_count": 25,
   "id": "83069eba",
   "metadata": {},
   "outputs": [
    {
     "data": {
      "text/html": [
       "<div>\n",
       "<style scoped>\n",
       "    .dataframe tbody tr th:only-of-type {\n",
       "        vertical-align: middle;\n",
       "    }\n",
       "\n",
       "    .dataframe tbody tr th {\n",
       "        vertical-align: top;\n",
       "    }\n",
       "\n",
       "    .dataframe thead th {\n",
       "        text-align: right;\n",
       "    }\n",
       "</style>\n",
       "<table border=\"1\" class=\"dataframe\">\n",
       "  <thead>\n",
       "    <tr style=\"text-align: right;\">\n",
       "      <th></th>\n",
       "      <th>20200</th>\n",
       "      <th>655370</th>\n",
       "      <th>1732930</th>\n",
       "      <th>1355720</th>\n",
       "      <th>1139950</th>\n",
       "      <th>1469160</th>\n",
       "      <th>1659180</th>\n",
       "      <th>1968760</th>\n",
       "      <th>1178150</th>\n",
       "      <th>320150</th>\n",
       "      <th>...</th>\n",
       "      <th>3309950</th>\n",
       "      <th>1989760</th>\n",
       "      <th>3136850</th>\n",
       "      <th>1721060</th>\n",
       "      <th>3593600</th>\n",
       "      <th>3600970</th>\n",
       "      <th>3543710</th>\n",
       "      <th>3265370</th>\n",
       "      <th>3423620</th>\n",
       "      <th>3183790</th>\n",
       "    </tr>\n",
       "  </thead>\n",
       "  <tbody>\n",
       "    <tr>\n",
       "      <th>name</th>\n",
       "      <td>Galactic Bowling</td>\n",
       "      <td>Train Bandit</td>\n",
       "      <td>Jolt Project</td>\n",
       "      <td>Henosis™</td>\n",
       "      <td>Two Weeks in Painland</td>\n",
       "      <td>Wartune Reborn</td>\n",
       "      <td>TD Worlds</td>\n",
       "      <td>Legend of Rome - The Wrath of Mars</td>\n",
       "      <td>MazM: Jekyll and Hyde</td>\n",
       "      <td>Deadlings: Rotten Edition</td>\n",
       "      <td>...</td>\n",
       "      <td>PlanetX</td>\n",
       "      <td>Pax Augusta</td>\n",
       "      <td>Kafkaesque: The Nightmare Trial</td>\n",
       "      <td>Mandragora: Whispers of the Witch Tree</td>\n",
       "      <td>Starry Trace</td>\n",
       "      <td>Paragon Of Time</td>\n",
       "      <td>A Few Days With : Hazel</td>\n",
       "      <td>MosGhost</td>\n",
       "      <td>AccuBow VR</td>\n",
       "      <td>Defense Of Fort Burton</td>\n",
       "    </tr>\n",
       "    <tr>\n",
       "      <th>release_date</th>\n",
       "      <td>Oct 21, 2008</td>\n",
       "      <td>Oct 12, 2017</td>\n",
       "      <td>Nov 17, 2021</td>\n",
       "      <td>Jul 23, 2020</td>\n",
       "      <td>Feb 3, 2020</td>\n",
       "      <td>Feb 26, 2021</td>\n",
       "      <td>Jan 9, 2022</td>\n",
       "      <td>May 5, 2022</td>\n",
       "      <td>Apr 2, 2020</td>\n",
       "      <td>Nov 11, 2014</td>\n",
       "      <td>...</td>\n",
       "      <td>Apr 18, 2025</td>\n",
       "      <td>Apr 17, 2025</td>\n",
       "      <td>Apr 17, 2025</td>\n",
       "      <td>Apr 17, 2025</td>\n",
       "      <td>Apr 14, 2025</td>\n",
       "      <td>Apr 10, 2025</td>\n",
       "      <td>Apr 11, 2025</td>\n",
       "      <td>Apr 1, 2025</td>\n",
       "      <td>Mar 11, 2025</td>\n",
       "      <td>Apr 10, 2025</td>\n",
       "    </tr>\n",
       "    <tr>\n",
       "      <th>required_age</th>\n",
       "      <td>0</td>\n",
       "      <td>0</td>\n",
       "      <td>0</td>\n",
       "      <td>0</td>\n",
       "      <td>0</td>\n",
       "      <td>0</td>\n",
       "      <td>0</td>\n",
       "      <td>0</td>\n",
       "      <td>0</td>\n",
       "      <td>0</td>\n",
       "      <td>...</td>\n",
       "      <td>0</td>\n",
       "      <td>0</td>\n",
       "      <td>0</td>\n",
       "      <td>0</td>\n",
       "      <td>0</td>\n",
       "      <td>0</td>\n",
       "      <td>0</td>\n",
       "      <td>0</td>\n",
       "      <td>0</td>\n",
       "      <td>0</td>\n",
       "    </tr>\n",
       "    <tr>\n",
       "      <th>price</th>\n",
       "      <td>19.99</td>\n",
       "      <td>0.99</td>\n",
       "      <td>4.99</td>\n",
       "      <td>5.99</td>\n",
       "      <td>0.0</td>\n",
       "      <td>0.0</td>\n",
       "      <td>10.99</td>\n",
       "      <td>9.99</td>\n",
       "      <td>14.99</td>\n",
       "      <td>3.99</td>\n",
       "      <td>...</td>\n",
       "      <td>0.0</td>\n",
       "      <td>19.99</td>\n",
       "      <td>2.39</td>\n",
       "      <td>39.99</td>\n",
       "      <td>1.21</td>\n",
       "      <td>2.99</td>\n",
       "      <td>2.69</td>\n",
       "      <td>7.99</td>\n",
       "      <td>0.0</td>\n",
       "      <td>9.99</td>\n",
       "    </tr>\n",
       "    <tr>\n",
       "      <th>dlc_count</th>\n",
       "      <td>0</td>\n",
       "      <td>0</td>\n",
       "      <td>0</td>\n",
       "      <td>0</td>\n",
       "      <td>0</td>\n",
       "      <td>0</td>\n",
       "      <td>1</td>\n",
       "      <td>0</td>\n",
       "      <td>0</td>\n",
       "      <td>0</td>\n",
       "      <td>...</td>\n",
       "      <td>0</td>\n",
       "      <td>0</td>\n",
       "      <td>0</td>\n",
       "      <td>7</td>\n",
       "      <td>0</td>\n",
       "      <td>0</td>\n",
       "      <td>0</td>\n",
       "      <td>0</td>\n",
       "      <td>0</td>\n",
       "      <td>0</td>\n",
       "    </tr>\n",
       "  </tbody>\n",
       "</table>\n",
       "<p>5 rows × 111452 columns</p>\n",
       "</div>"
      ],
      "text/plain": [
       "                       20200         655370        1732930       1355720  \\\n",
       "name          Galactic Bowling  Train Bandit  Jolt Project      Henosis™   \n",
       "release_date      Oct 21, 2008  Oct 12, 2017  Nov 17, 2021  Jul 23, 2020   \n",
       "required_age                 0             0             0             0   \n",
       "price                    19.99          0.99          4.99          5.99   \n",
       "dlc_count                    0             0             0             0   \n",
       "\n",
       "                            1139950         1469160      1659180  \\\n",
       "name          Two Weeks in Painland  Wartune Reborn    TD Worlds   \n",
       "release_date            Feb 3, 2020    Feb 26, 2021  Jan 9, 2022   \n",
       "required_age                      0               0            0   \n",
       "price                           0.0             0.0        10.99   \n",
       "dlc_count                         0               0            1   \n",
       "\n",
       "                                         1968760                1178150  \\\n",
       "name          Legend of Rome - The Wrath of Mars  MazM: Jekyll and Hyde   \n",
       "release_date                         May 5, 2022            Apr 2, 2020   \n",
       "required_age                                   0                      0   \n",
       "price                                       9.99                  14.99   \n",
       "dlc_count                                      0                      0   \n",
       "\n",
       "                                320150   ...       3309950       1989760  \\\n",
       "name          Deadlings: Rotten Edition  ...       PlanetX   Pax Augusta   \n",
       "release_date               Nov 11, 2014  ...  Apr 18, 2025  Apr 17, 2025   \n",
       "required_age                          0  ...             0             0   \n",
       "price                              3.99  ...           0.0         19.99   \n",
       "dlc_count                             0  ...             0             0   \n",
       "\n",
       "                                      3136850  \\\n",
       "name          Kafkaesque: The Nightmare Trial   \n",
       "release_date                     Apr 17, 2025   \n",
       "required_age                                0   \n",
       "price                                    2.39   \n",
       "dlc_count                                   0   \n",
       "\n",
       "                                             1721060       3593600  \\\n",
       "name          Mandragora: Whispers of the Witch Tree  Starry Trace   \n",
       "release_date                            Apr 17, 2025  Apr 14, 2025   \n",
       "required_age                                       0             0   \n",
       "price                                          39.99          1.21   \n",
       "dlc_count                                          7             0   \n",
       "\n",
       "                      3600970                  3543710      3265370  \\\n",
       "name          Paragon Of Time  A Few Days With : Hazel     MosGhost   \n",
       "release_date     Apr 10, 2025             Apr 11, 2025  Apr 1, 2025   \n",
       "required_age                0                        0            0   \n",
       "price                    2.99                     2.69         7.99   \n",
       "dlc_count                   0                        0            0   \n",
       "\n",
       "                   3423620                 3183790  \n",
       "name            AccuBow VR  Defense Of Fort Burton  \n",
       "release_date  Mar 11, 2025            Apr 10, 2025  \n",
       "required_age             0                       0  \n",
       "price                  0.0                    9.99  \n",
       "dlc_count                0                       0  \n",
       "\n",
       "[5 rows x 111452 columns]"
      ]
     },
     "execution_count": 25,
     "metadata": {},
     "output_type": "execute_result"
    }
   ],
   "source": [
    "sd.head()"
   ]
  },
  {
   "cell_type": "markdown",
   "id": "eec23c3c",
   "metadata": {},
   "source": [
    "The data from the Steam Storefront is listed with the game ID as the column, and different attributes in the rows. The following attributes are available for each game entry:"
   ]
  },
  {
   "cell_type": "code",
   "execution_count": 34,
   "id": "4f2ffa61",
   "metadata": {},
   "outputs": [
    {
     "data": {
      "text/plain": [
       "Index(['name', 'release_date', 'required_age', 'price', 'dlc_count',\n",
       "       'detailed_description', 'about_the_game', 'short_description',\n",
       "       'reviews', 'header_image', 'website', 'support_url', 'support_email',\n",
       "       'windows', 'mac', 'linux', 'metacritic_score', 'metacritic_url',\n",
       "       'achievements', 'recommendations', 'notes', 'supported_languages',\n",
       "       'full_audio_languages', 'packages', 'developers', 'publishers',\n",
       "       'categories', 'genres', 'screenshots', 'movies', 'user_score',\n",
       "       'score_rank', 'positive', 'negative', 'estimated_owners',\n",
       "       'average_playtime_forever', 'average_playtime_2weeks',\n",
       "       'median_playtime_forever', 'median_playtime_2weeks', 'peak_ccu', 'tags',\n",
       "       'discount'],\n",
       "      dtype='object')"
      ]
     },
     "execution_count": 34,
     "metadata": {},
     "output_type": "execute_result"
    }
   ],
   "source": [
    "sd.index"
   ]
  },
  {
   "cell_type": "markdown",
   "id": "f12d8a13",
   "metadata": {},
   "source": [
    "## Cleaning Data"
   ]
  },
  {
   "cell_type": "code",
   "execution_count": null,
   "id": "1db12315",
   "metadata": {},
   "outputs": [],
   "source": []
  },
  {
   "cell_type": "markdown",
   "id": "acad4ca9",
   "metadata": {},
   "source": [
    "## Modification"
   ]
  },
  {
   "cell_type": "code",
   "execution_count": null,
   "id": "1d0ed7af",
   "metadata": {},
   "outputs": [],
   "source": []
  },
  {
   "cell_type": "markdown",
   "id": "adb44a71",
   "metadata": {},
   "source": [
    "## Analysis"
   ]
  },
  {
   "cell_type": "markdown",
   "id": "b0aa7e71",
   "metadata": {},
   "source": [
    "### Section 1"
   ]
  },
  {
   "cell_type": "markdown",
   "id": "966e56c1",
   "metadata": {},
   "source": [
    "### Section 2"
   ]
  },
  {
   "cell_type": "markdown",
   "id": "0211ed08",
   "metadata": {},
   "source": [
    "### Section 3"
   ]
  }
 ],
 "metadata": {
  "kernelspec": {
   "display_name": "Python 3",
   "language": "python",
   "name": "python3"
  },
  "language_info": {
   "codemirror_mode": {
    "name": "ipython",
    "version": 3
   },
   "file_extension": ".py",
   "mimetype": "text/x-python",
   "name": "python",
   "nbconvert_exporter": "python",
   "pygments_lexer": "ipython3",
   "version": "3.13.3"
  }
 },
 "nbformat": 4,
 "nbformat_minor": 5
}
