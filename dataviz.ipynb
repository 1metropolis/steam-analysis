{
 "cells": [
  {
   "cell_type": "markdown",
   "id": "a66a68eb",
   "metadata": {},
   "source": [
    "# Steam Game Dataset Analysis"
   ]
  },
  {
   "cell_type": "markdown",
   "id": "d3111699",
   "metadata": {},
   "source": [
    "## Introduction\n",
    "\n",
    "This is a practice dataset analysis pilot project for my High School Computer Science course. Throughout this notebook, I'll be using Steam Store data that was scraped and uploaded onto Kaggle. In the future, I'll likely do another trial by scraping and cleaning out my own data."
   ]
  },
  {
   "cell_type": "code",
   "execution_count": 2,
   "id": "3441fc67",
   "metadata": {},
   "outputs": [],
   "source": [
    "import matplotlib.pyplot as plt\n",
    "import pandas as pd\n",
    "import seaborn as sns"
   ]
  },
  {
   "cell_type": "markdown",
   "id": "02a54e57",
   "metadata": {},
   "source": [
    "Now, the data that'll be used for the purpose of this notebook has already been scraped from the internet and is stored on my repository. Unfortunately, GitHub limits files to 50 MB. The json data files had to be split into different chunks in order to fit. In order to analyze them with pandas, they need to be formed back into one dataframe.\n",
    "\n",
    "(The JSONs were downloaded and split using the file titled 'scrapedata.py'. It's available on the repo if needed.)"
   ]
  },
  {
   "cell_type": "code",
   "execution_count": 3,
   "id": "677495de",
   "metadata": {},
   "outputs": [],
   "source": [
    "# read the split json files and concatenate them\n",
    "json_files = [f'https://raw.githubusercontent.com/1metropolis/steam-analysis/refs/heads/main/data/data_{i}.json' for i in range(1, 17)]\n",
    "dfs = [pd.read_json(file, orient='index') for file in json_files]\n",
    "\n",
    "sd = pd.concat(dfs)"
   ]
  },
  {
   "cell_type": "code",
   "execution_count": 4,
   "id": "83069eba",
   "metadata": {},
   "outputs": [
    {
     "data": {
      "text/html": [
       "<div>\n",
       "<style scoped>\n",
       "    .dataframe tbody tr th:only-of-type {\n",
       "        vertical-align: middle;\n",
       "    }\n",
       "\n",
       "    .dataframe tbody tr th {\n",
       "        vertical-align: top;\n",
       "    }\n",
       "\n",
       "    .dataframe thead th {\n",
       "        text-align: right;\n",
       "    }\n",
       "</style>\n",
       "<table border=\"1\" class=\"dataframe\">\n",
       "  <thead>\n",
       "    <tr style=\"text-align: right;\">\n",
       "      <th></th>\n",
       "      <th>name</th>\n",
       "      <th>release_date</th>\n",
       "      <th>required_age</th>\n",
       "      <th>price</th>\n",
       "      <th>dlc_count</th>\n",
       "      <th>detailed_description</th>\n",
       "      <th>about_the_game</th>\n",
       "      <th>short_description</th>\n",
       "      <th>reviews</th>\n",
       "      <th>header_image</th>\n",
       "      <th>...</th>\n",
       "      <th>positive</th>\n",
       "      <th>negative</th>\n",
       "      <th>estimated_owners</th>\n",
       "      <th>average_playtime_forever</th>\n",
       "      <th>average_playtime_2weeks</th>\n",
       "      <th>median_playtime_forever</th>\n",
       "      <th>median_playtime_2weeks</th>\n",
       "      <th>peak_ccu</th>\n",
       "      <th>tags</th>\n",
       "      <th>discount</th>\n",
       "    </tr>\n",
       "  </thead>\n",
       "  <tbody>\n",
       "    <tr>\n",
       "      <th>20200</th>\n",
       "      <td>Galactic Bowling</td>\n",
       "      <td>Oct 21, 2008</td>\n",
       "      <td>0</td>\n",
       "      <td>19.99</td>\n",
       "      <td>0</td>\n",
       "      <td>Galactic Bowling is an exaggerated and stylize...</td>\n",
       "      <td>Galactic Bowling is an exaggerated and stylize...</td>\n",
       "      <td>Galactic Bowling is an exaggerated and stylize...</td>\n",
       "      <td></td>\n",
       "      <td>https://cdn.akamai.steamstatic.com/steam/apps/...</td>\n",
       "      <td>...</td>\n",
       "      <td>6</td>\n",
       "      <td>11</td>\n",
       "      <td>0 - 20000</td>\n",
       "      <td>0</td>\n",
       "      <td>0</td>\n",
       "      <td>0</td>\n",
       "      <td>0</td>\n",
       "      <td>0</td>\n",
       "      <td>{'Indie': 22, 'Casual': 21, 'Sports': 21, 'Bow...</td>\n",
       "      <td>NaN</td>\n",
       "    </tr>\n",
       "    <tr>\n",
       "      <th>655370</th>\n",
       "      <td>Train Bandit</td>\n",
       "      <td>Oct 12, 2017</td>\n",
       "      <td>0</td>\n",
       "      <td>0.99</td>\n",
       "      <td>0</td>\n",
       "      <td>THE LAW!! Looks to be a showdown atop a train....</td>\n",
       "      <td>THE LAW!! Looks to be a showdown atop a train....</td>\n",
       "      <td>THE LAW!! Looks to be a showdown atop a train....</td>\n",
       "      <td></td>\n",
       "      <td>https://cdn.akamai.steamstatic.com/steam/apps/...</td>\n",
       "      <td>...</td>\n",
       "      <td>53</td>\n",
       "      <td>5</td>\n",
       "      <td>0 - 20000</td>\n",
       "      <td>0</td>\n",
       "      <td>0</td>\n",
       "      <td>0</td>\n",
       "      <td>0</td>\n",
       "      <td>0</td>\n",
       "      <td>{'Indie': 109, 'Action': 103, 'Pixel Graphics'...</td>\n",
       "      <td>NaN</td>\n",
       "    </tr>\n",
       "    <tr>\n",
       "      <th>1732930</th>\n",
       "      <td>Jolt Project</td>\n",
       "      <td>Nov 17, 2021</td>\n",
       "      <td>0</td>\n",
       "      <td>4.99</td>\n",
       "      <td>0</td>\n",
       "      <td>Jolt Project: The army now has a new robotics ...</td>\n",
       "      <td>Jolt Project: The army now has a new robotics ...</td>\n",
       "      <td>Shoot vehicles, blow enemies with a special at...</td>\n",
       "      <td></td>\n",
       "      <td>https://cdn.akamai.steamstatic.com/steam/apps/...</td>\n",
       "      <td>...</td>\n",
       "      <td>0</td>\n",
       "      <td>0</td>\n",
       "      <td>0 - 20000</td>\n",
       "      <td>0</td>\n",
       "      <td>0</td>\n",
       "      <td>0</td>\n",
       "      <td>0</td>\n",
       "      <td>0</td>\n",
       "      <td>[]</td>\n",
       "      <td>NaN</td>\n",
       "    </tr>\n",
       "    <tr>\n",
       "      <th>1355720</th>\n",
       "      <td>Henosis™</td>\n",
       "      <td>Jul 23, 2020</td>\n",
       "      <td>0</td>\n",
       "      <td>5.99</td>\n",
       "      <td>0</td>\n",
       "      <td>HENOSIS™ is a mysterious 2D Platform Puzzler w...</td>\n",
       "      <td>HENOSIS™ is a mysterious 2D Platform Puzzler w...</td>\n",
       "      <td>HENOSIS™ is a mysterious 2D Platform Puzzler w...</td>\n",
       "      <td></td>\n",
       "      <td>https://cdn.akamai.steamstatic.com/steam/apps/...</td>\n",
       "      <td>...</td>\n",
       "      <td>3</td>\n",
       "      <td>0</td>\n",
       "      <td>0 - 20000</td>\n",
       "      <td>0</td>\n",
       "      <td>0</td>\n",
       "      <td>0</td>\n",
       "      <td>0</td>\n",
       "      <td>0</td>\n",
       "      <td>{'2D Platformer': 161, 'Atmospheric': 154, 'Su...</td>\n",
       "      <td>NaN</td>\n",
       "    </tr>\n",
       "    <tr>\n",
       "      <th>1139950</th>\n",
       "      <td>Two Weeks in Painland</td>\n",
       "      <td>Feb 3, 2020</td>\n",
       "      <td>0</td>\n",
       "      <td>0.00</td>\n",
       "      <td>0</td>\n",
       "      <td>ABOUT THE GAME Play as a hacker who has arrang...</td>\n",
       "      <td>ABOUT THE GAME Play as a hacker who has arrang...</td>\n",
       "      <td>Two Weeks in Painland is a story-driven game a...</td>\n",
       "      <td></td>\n",
       "      <td>https://cdn.akamai.steamstatic.com/steam/apps/...</td>\n",
       "      <td>...</td>\n",
       "      <td>50</td>\n",
       "      <td>8</td>\n",
       "      <td>0 - 20000</td>\n",
       "      <td>0</td>\n",
       "      <td>0</td>\n",
       "      <td>0</td>\n",
       "      <td>0</td>\n",
       "      <td>0</td>\n",
       "      <td>{'Indie': 42, 'Adventure': 41, 'Nudity': 22, '...</td>\n",
       "      <td>NaN</td>\n",
       "    </tr>\n",
       "  </tbody>\n",
       "</table>\n",
       "<p>5 rows × 42 columns</p>\n",
       "</div>"
      ],
      "text/plain": [
       "                          name  release_date  required_age  price  dlc_count  \\\n",
       "20200         Galactic Bowling  Oct 21, 2008             0  19.99          0   \n",
       "655370            Train Bandit  Oct 12, 2017             0   0.99          0   \n",
       "1732930           Jolt Project  Nov 17, 2021             0   4.99          0   \n",
       "1355720               Henosis™  Jul 23, 2020             0   5.99          0   \n",
       "1139950  Two Weeks in Painland   Feb 3, 2020             0   0.00          0   \n",
       "\n",
       "                                      detailed_description  \\\n",
       "20200    Galactic Bowling is an exaggerated and stylize...   \n",
       "655370   THE LAW!! Looks to be a showdown atop a train....   \n",
       "1732930  Jolt Project: The army now has a new robotics ...   \n",
       "1355720  HENOSIS™ is a mysterious 2D Platform Puzzler w...   \n",
       "1139950  ABOUT THE GAME Play as a hacker who has arrang...   \n",
       "\n",
       "                                            about_the_game  \\\n",
       "20200    Galactic Bowling is an exaggerated and stylize...   \n",
       "655370   THE LAW!! Looks to be a showdown atop a train....   \n",
       "1732930  Jolt Project: The army now has a new robotics ...   \n",
       "1355720  HENOSIS™ is a mysterious 2D Platform Puzzler w...   \n",
       "1139950  ABOUT THE GAME Play as a hacker who has arrang...   \n",
       "\n",
       "                                         short_description reviews  \\\n",
       "20200    Galactic Bowling is an exaggerated and stylize...           \n",
       "655370   THE LAW!! Looks to be a showdown atop a train....           \n",
       "1732930  Shoot vehicles, blow enemies with a special at...           \n",
       "1355720  HENOSIS™ is a mysterious 2D Platform Puzzler w...           \n",
       "1139950  Two Weeks in Painland is a story-driven game a...           \n",
       "\n",
       "                                              header_image  ... positive  \\\n",
       "20200    https://cdn.akamai.steamstatic.com/steam/apps/...  ...        6   \n",
       "655370   https://cdn.akamai.steamstatic.com/steam/apps/...  ...       53   \n",
       "1732930  https://cdn.akamai.steamstatic.com/steam/apps/...  ...        0   \n",
       "1355720  https://cdn.akamai.steamstatic.com/steam/apps/...  ...        3   \n",
       "1139950  https://cdn.akamai.steamstatic.com/steam/apps/...  ...       50   \n",
       "\n",
       "        negative estimated_owners  average_playtime_forever  \\\n",
       "20200         11        0 - 20000                         0   \n",
       "655370         5        0 - 20000                         0   \n",
       "1732930        0        0 - 20000                         0   \n",
       "1355720        0        0 - 20000                         0   \n",
       "1139950        8        0 - 20000                         0   \n",
       "\n",
       "         average_playtime_2weeks  median_playtime_forever  \\\n",
       "20200                          0                        0   \n",
       "655370                         0                        0   \n",
       "1732930                        0                        0   \n",
       "1355720                        0                        0   \n",
       "1139950                        0                        0   \n",
       "\n",
       "         median_playtime_2weeks peak_ccu  \\\n",
       "20200                         0        0   \n",
       "655370                        0        0   \n",
       "1732930                       0        0   \n",
       "1355720                       0        0   \n",
       "1139950                       0        0   \n",
       "\n",
       "                                                      tags  discount  \n",
       "20200    {'Indie': 22, 'Casual': 21, 'Sports': 21, 'Bow...       NaN  \n",
       "655370   {'Indie': 109, 'Action': 103, 'Pixel Graphics'...       NaN  \n",
       "1732930                                                 []       NaN  \n",
       "1355720  {'2D Platformer': 161, 'Atmospheric': 154, 'Su...       NaN  \n",
       "1139950  {'Indie': 42, 'Adventure': 41, 'Nudity': 22, '...       NaN  \n",
       "\n",
       "[5 rows x 42 columns]"
      ]
     },
     "execution_count": 4,
     "metadata": {},
     "output_type": "execute_result"
    }
   ],
   "source": [
    "sd.head()"
   ]
  },
  {
   "cell_type": "markdown",
   "id": "eec23c3c",
   "metadata": {},
   "source": [
    "Each entry is identifiable by the game_id located in the leftmost column. The following attributes are available for each game entry:"
   ]
  },
  {
   "cell_type": "code",
   "execution_count": 13,
   "id": "24f439b8",
   "metadata": {},
   "outputs": [
    {
     "name": "stdout",
     "output_type": "stream",
     "text": [
      "game count: 111452\n",
      "Index(['name', 'release_date', 'required_age', 'price', 'dlc_count',\n",
      "       'detailed_description', 'about_the_game', 'short_description',\n",
      "       'reviews', 'header_image', 'website', 'support_url', 'support_email',\n",
      "       'windows', 'mac', 'linux', 'metacritic_score', 'metacritic_url',\n",
      "       'achievements', 'recommendations', 'notes', 'supported_languages',\n",
      "       'full_audio_languages', 'packages', 'developers', 'publishers',\n",
      "       'categories', 'genres', 'screenshots', 'movies', 'user_score',\n",
      "       'score_rank', 'positive', 'negative', 'estimated_owners',\n",
      "       'average_playtime_forever', 'average_playtime_2weeks',\n",
      "       'median_playtime_forever', 'median_playtime_2weeks', 'peak_ccu', 'tags',\n",
      "       'discount'],\n",
      "      dtype='object')\n"
     ]
    }
   ],
   "source": [
    "print(\"game count:\",len(sd))\n",
    "print(sd.columns)"
   ]
  },
  {
   "cell_type": "markdown",
   "id": "30a48e6a",
   "metadata": {},
   "source": []
  },
  {
   "cell_type": "markdown",
   "id": "f12d8a13",
   "metadata": {},
   "source": [
    "## Cleaning Data"
   ]
  },
  {
   "cell_type": "code",
   "execution_count": null,
   "id": "1db12315",
   "metadata": {},
   "outputs": [],
   "source": []
  },
  {
   "cell_type": "markdown",
   "id": "acad4ca9",
   "metadata": {},
   "source": [
    "## Modification"
   ]
  },
  {
   "cell_type": "code",
   "execution_count": null,
   "id": "1d0ed7af",
   "metadata": {},
   "outputs": [],
   "source": []
  },
  {
   "cell_type": "markdown",
   "id": "adb44a71",
   "metadata": {},
   "source": [
    "## Analysis"
   ]
  },
  {
   "cell_type": "markdown",
   "id": "b0aa7e71",
   "metadata": {},
   "source": [
    "### Section 1"
   ]
  },
  {
   "cell_type": "markdown",
   "id": "966e56c1",
   "metadata": {},
   "source": [
    "### Section 2"
   ]
  },
  {
   "cell_type": "markdown",
   "id": "0211ed08",
   "metadata": {},
   "source": [
    "### Section 3"
   ]
  }
 ],
 "metadata": {
  "kernelspec": {
   "display_name": "Python 3",
   "language": "python",
   "name": "python3"
  },
  "language_info": {
   "codemirror_mode": {
    "name": "ipython",
    "version": 3
   },
   "file_extension": ".py",
   "mimetype": "text/x-python",
   "name": "python",
   "nbconvert_exporter": "python",
   "pygments_lexer": "ipython3",
   "version": "3.13.3"
  }
 },
 "nbformat": 4,
 "nbformat_minor": 5
}
